{
 "cells": [
  {
   "cell_type": "code",
   "execution_count": 3,
   "metadata": {},
   "outputs": [],
   "source": [
    "import cv2\n",
    "import numpy as np\n",
    "import tensorflow as tf\n",
    "import tensorflow_hub as hub\n",
    "import math\n",
    "import os\n",
    "from IPython import display\n"
   ]
  },
  {
   "cell_type": "code",
   "execution_count": 11,
   "metadata": {},
   "outputs": [],
   "source": [
    "# TF-Hub'dan modeli bir kez yükle.\n",
    "hub_handle = 'https://tfhub.dev/deepmind/mil-nce/s3d/1'\n",
    "hub_model = hub.load(hub_handle)\n",
    "\n",
    "def generate_embeddings(model, input_frames, input_words):\n",
    "  \"\"\"Generate embeddings from the model from video frames and input words.\"\"\"\n",
    "  \n",
    "  # Giriş karelerinin [0, 1] aralığında normalize edilmiş olması ve Batch x T x H x W x 3 şeklinde olması gerekmektedir.\n",
    "  vision_output = model.signatures['video'](tf.constant(tf.cast(input_frames, dtype=tf.float32)))\n",
    "  text_output = model.signatures['text'](tf.constant(input_words))\n",
    "  return vision_output['video_embedding'], text_output['text_embedding']"
   ]
  },
  {
   "cell_type": "code",
   "execution_count": 12,
   "metadata": {},
   "outputs": [],
   "source": [
    "# @title Video yükleme ve görselleştirme fonksiyonlarını tanımlayın { display-mode: \"form\" }\n",
    "\n",
    "# CV2 kullanarak video dosyalarını açmak için yardımcı programlar.\n",
    "def crop_center_square(frame):\n",
    "  y, x = frame.shape[0:2]\n",
    "  min_dim = min(y, x)\n",
    "  start_x = (x // 2) - (min_dim // 2)\n",
    "  start_y = (y // 2) - (min_dim // 2)\n",
    "  return frame[start_y:start_y+min_dim,start_x:start_x+min_dim]\n",
    "\n",
    "\n",
    "def load_video(video_url, max_frames=32, resize=(224, 224)):\n",
    "  path = tf.keras.utils.get_file(os.path.basename(video_url)[-128:], video_url)\n",
    "  cap = cv2.VideoCapture(path)\n",
    "  frames = []\n",
    "  try:\n",
    "    while True:\n",
    "      ret, frame = cap.read()\n",
    "      if not ret:\n",
    "        break\n",
    "      frame = crop_center_square(frame)\n",
    "      frame = cv2.resize(frame, resize)\n",
    "      frame = frame[:, :, [2, 1, 0]]\n",
    "      frames.append(frame)\n",
    "\n",
    "      if len(frames) == max_frames:\n",
    "        break\n",
    "  finally:\n",
    "    cap.release()\n",
    "  frames = np.array(frames)\n",
    "  if len(frames) < max_frames:\n",
    "    n_repeat = int(math.ceil(max_frames / float(len(frames))))\n",
    "    frames = frames.repeat(n_repeat, axis=0)\n",
    "  frames = frames[:max_frames]\n",
    "  return frames / 255.0\n",
    "\n",
    "def display_video(urls):\n",
    "    html = '<table>'\n",
    "    html += '<tr><th>Video 1</th><th>Video 2</th><th>Video 3</th></tr><tr>'\n",
    "    for url in urls:\n",
    "        html += '<td>'\n",
    "        html += '<img src=\"{}\" height=\"224\">'.format(url)\n",
    "        html += '</td>'\n",
    "    html += '</tr></table>'\n",
    "    return display.HTML(html)\n",
    "\n",
    "def display_query_and_results_video(query, urls, scores):\n",
    "  \"\"\"Display a text query and the top result videos and scores.\"\"\"\n",
    "  sorted_ix = np.argsort(-scores)\n",
    "  html = ''\n",
    "  html += '<h2>Input query: <i>{}</i> </h2><div>'.format(query)\n",
    "  html += 'Results: <div>'\n",
    "  html += '<table>'\n",
    "  for i, idx in enumerate(sorted_ix):\n",
    "    url = urls[sorted_ix[i]]\n",
    "    score = scores[sorted_ix[i]]\n",
    "    html += '<tr><td>Rank #{}, Score:{:.2f}</td>'.format(i+1, score)\n",
    "    html += '<td><img src=\"{}\" height=\"224\"></td></tr>'.format(url)\n",
    "  html += '</table>'\n",
    "  return html"
   ]
  },
  {
   "cell_type": "code",
   "execution_count": 13,
   "metadata": {},
   "outputs": [
    {
     "data": {
      "text/html": [
       "<table><tr><th>Video 1</th><th>Video 2</th><th>Video 3</th></tr><tr><td><img src=\"https://upload.wikimedia.org/wikipedia/commons/b/b0/YosriAirTerjun.gif\" height=\"224\"></td><td><img src=\"https://upload.wikimedia.org/wikipedia/commons/e/e6/Guitar_solo_gif.gif\" height=\"224\"></td><td><img src=\"https://upload.wikimedia.org/wikipedia/commons/3/30/2009-08-16-autodrift-by-RalfR-gif-by-wau.gif\" height=\"224\"></td><td><img src=\"https://upload.wikimedia.org/wikipedia/commons/thumb/7/7f/Rotating_earth_animated_transparent.gif/640px-Rotating_earth_animated_transparent.gif\" height=\"224\"></td></tr></table>"
      ],
      "text/plain": [
       "<IPython.core.display.HTML object>"
      ]
     },
     "execution_count": 13,
     "metadata": {},
     "output_type": "execute_result"
    }
   ],
   "source": [
    "# @title Örnek videoları yükleyin ve metin sorgularını tanımlayın { display-mode: \"form\" }\n",
    "\n",
    "video_1_url = 'https://upload.wikimedia.org/wikipedia/commons/b/b0/YosriAirTerjun.gif'\n",
    "video_2_url = 'https://upload.wikimedia.org/wikipedia/commons/e/e6/Guitar_solo_gif.gif'\n",
    "video_3_url = 'https://upload.wikimedia.org/wikipedia/commons/3/30/2009-08-16-autodrift-by-RalfR-gif-by-wau.gif'\n",
    "video_4_url = 'https://upload.wikimedia.org/wikipedia/commons/thumb/7/7f/Rotating_earth_animated_transparent.gif/640px-Rotating_earth_animated_transparent.gif'\n",
    "\n",
    "video_1 = load_video(video_1_url)\n",
    "video_2 = load_video(video_2_url)\n",
    "video_3 = load_video(video_3_url)\n",
    "video_4 = load_video(video_4_url)\n",
    "\n",
    "all_videos = [video_1, video_2, video_3, video_4]\n",
    "\n",
    "query_1_video = 'Waterfall'\n",
    "query_2_video = 'Playing Guitar'\n",
    "query_3_video = 'Drifting Car'\n",
    "query_4_video = 'Rotating Earth'\n",
    "\n",
    "all_queries_video = [query_1_video, query_2_video, query_3_video, query_4_video]\n",
    "all_videos_urls = [video_1_url, video_2_url, video_3_url, video_4_url]\n",
    "\n",
    "display_video(all_videos_urls)\n"
   ]
  },
  {
   "cell_type": "code",
   "execution_count": 14,
   "metadata": {},
   "outputs": [],
   "source": [
    "# Video girişlerini hazırlayın.\n",
    "videos_np = np.stack(all_videos, axis=0)\n",
    "\n",
    "# Metin girişini hazırlayın.\n",
    "words_np = np.array(all_queries_video)\n",
    "\n",
    "# Video ve metin gömme (embedding) vektörlerini oluşturun.\n",
    "video_embd, text_embd = generate_embeddings(hub_model, videos_np, words_np)\n",
    "\n",
    "# Video ve metin arasındaki benzerlik puanları nokta çarpımı ile hesaplanır.\n",
    "all_scores = np.dot(text_embd, tf.transpose(video_embd))\n"
   ]
  },
  {
   "cell_type": "code",
   "execution_count": 15,
   "metadata": {},
   "outputs": [
    {
     "data": {
      "text/html": [
       "<h2>Input query: <i>Waterfall</i> </h2><div>Results: <div><table><tr><td>Rank #1, Score:4.71</td><td><img src=\"https://upload.wikimedia.org/wikipedia/commons/b/b0/YosriAirTerjun.gif\" height=\"224\"></td></tr><tr><td>Rank #2, Score:-1.07</td><td><img src=\"https://upload.wikimedia.org/wikipedia/commons/thumb/7/7f/Rotating_earth_animated_transparent.gif/640px-Rotating_earth_animated_transparent.gif\" height=\"224\"></td></tr><tr><td>Rank #3, Score:-1.63</td><td><img src=\"https://upload.wikimedia.org/wikipedia/commons/3/30/2009-08-16-autodrift-by-RalfR-gif-by-wau.gif\" height=\"224\"></td></tr><tr><td>Rank #4, Score:-4.17</td><td><img src=\"https://upload.wikimedia.org/wikipedia/commons/e/e6/Guitar_solo_gif.gif\" height=\"224\"></td></tr></table><br><h2>Input query: <i>Playing Guitar</i> </h2><div>Results: <div><table><tr><td>Rank #1, Score:6.50</td><td><img src=\"https://upload.wikimedia.org/wikipedia/commons/e/e6/Guitar_solo_gif.gif\" height=\"224\"></td></tr><tr><td>Rank #2, Score:-1.79</td><td><img src=\"https://upload.wikimedia.org/wikipedia/commons/b/b0/YosriAirTerjun.gif\" height=\"224\"></td></tr><tr><td>Rank #3, Score:-2.67</td><td><img src=\"https://upload.wikimedia.org/wikipedia/commons/3/30/2009-08-16-autodrift-by-RalfR-gif-by-wau.gif\" height=\"224\"></td></tr><tr><td>Rank #4, Score:-3.32</td><td><img src=\"https://upload.wikimedia.org/wikipedia/commons/thumb/7/7f/Rotating_earth_animated_transparent.gif/640px-Rotating_earth_animated_transparent.gif\" height=\"224\"></td></tr></table><br><h2>Input query: <i>Drifting Car</i> </h2><div>Results: <div><table><tr><td>Rank #1, Score:8.78</td><td><img src=\"https://upload.wikimedia.org/wikipedia/commons/3/30/2009-08-16-autodrift-by-RalfR-gif-by-wau.gif\" height=\"224\"></td></tr><tr><td>Rank #2, Score:-1.07</td><td><img src=\"https://upload.wikimedia.org/wikipedia/commons/b/b0/YosriAirTerjun.gif\" height=\"224\"></td></tr><tr><td>Rank #3, Score:-2.17</td><td><img src=\"https://upload.wikimedia.org/wikipedia/commons/e/e6/Guitar_solo_gif.gif\" height=\"224\"></td></tr><tr><td>Rank #4, Score:-2.17</td><td><img src=\"https://upload.wikimedia.org/wikipedia/commons/thumb/7/7f/Rotating_earth_animated_transparent.gif/640px-Rotating_earth_animated_transparent.gif\" height=\"224\"></td></tr></table><br><h2>Input query: <i>Rotating Earth</i> </h2><div>Results: <div><table><tr><td>Rank #1, Score:7.74</td><td><img src=\"https://upload.wikimedia.org/wikipedia/commons/thumb/7/7f/Rotating_earth_animated_transparent.gif/640px-Rotating_earth_animated_transparent.gif\" height=\"224\"></td></tr><tr><td>Rank #2, Score:3.32</td><td><img src=\"https://upload.wikimedia.org/wikipedia/commons/b/b0/YosriAirTerjun.gif\" height=\"224\"></td></tr><tr><td>Rank #3, Score:-1.66</td><td><img src=\"https://upload.wikimedia.org/wikipedia/commons/3/30/2009-08-16-autodrift-by-RalfR-gif-by-wau.gif\" height=\"224\"></td></tr><tr><td>Rank #4, Score:-3.24</td><td><img src=\"https://upload.wikimedia.org/wikipedia/commons/e/e6/Guitar_solo_gif.gif\" height=\"224\"></td></tr></table><br>"
      ],
      "text/plain": [
       "<IPython.core.display.HTML object>"
      ]
     },
     "execution_count": 15,
     "metadata": {},
     "output_type": "execute_result"
    }
   ],
   "source": [
    "# Sonuçları görüntüleyin.\n",
    "html = ''\n",
    "for i, words in enumerate(words_np):\n",
    "  html += display_query_and_results_video(words, all_videos_urls, all_scores[i, :])\n",
    "  html += '<br>'\n",
    "display.HTML(html)\n"
   ]
  }
 ],
 "metadata": {
  "kernelspec": {
   "display_name": "base",
   "language": "python",
   "name": "python3"
  },
  "language_info": {
   "codemirror_mode": {
    "name": "ipython",
    "version": 3
   },
   "file_extension": ".py",
   "mimetype": "text/x-python",
   "name": "python",
   "nbconvert_exporter": "python",
   "pygments_lexer": "ipython3",
   "version": "3.10.13"
  },
  "orig_nbformat": 4
 },
 "nbformat": 4,
 "nbformat_minor": 2
}
